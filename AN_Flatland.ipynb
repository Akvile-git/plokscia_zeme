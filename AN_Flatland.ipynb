{
  "nbformat": 4,
  "nbformat_minor": 0,
  "metadata": {
    "colab": {
      "name": "AN-Flatland.ipynb",
      "provenance": []
    },
    "kernelspec": {
      "name": "python3",
      "display_name": "Python 3"
    },
    "language_info": {
      "name": "python"
    }
  },
  "cells": [
    {
      "cell_type": "code",
      "source": [
        "import gzip\n",
        "import pickle\n",
        "import tensorflow\n",
        "import numpy as np\n",
        "from tensorflow import keras\n",
        "\n",
        "\n",
        "def evaluate(path, model):\n",
        "    X, y = pickle.load(gzip.open(path, 'rb'))\n",
        "    y[y != 0] -= 2\n",
        "    X = X / 255.\n",
        "    acc = np.mean(model(X).numpy().argmax(axis=1) == y)\n",
        "    return acc"
      ],
      "metadata": {
        "id": "WmPdewRTrgUN"
      },
      "execution_count": 3,
      "outputs": []
    },
    {
      "cell_type": "code",
      "source": [
        "path = 'flatland_train.data'\n",
        "X, y = pickle.load(gzip.open(path, 'rb')) # (10000, 50, 50)\n",
        "# data pre-processing\n",
        "y[y != 0] -= 2 # labels from 0 to 4\n",
        "X = X / 255. # in range [0, 1]"
      ],
      "metadata": {
        "id": "YqdvP8bOrm4_"
      },
      "execution_count": 5,
      "outputs": []
    },
    {
      "cell_type": "code",
      "source": [
        "model = keras.models.Sequential()\n",
        "#model.add(keras.layers.Flatten(input_shape=(50, 50))) # (10000, 2500)\n",
        "model.add(keras.layers.Conv2D(16, kernel_size=(3, 3), activation='relu', input_shape=[50, 50, 1]))\n",
        "model.add(keras.layers.Conv2D(16, kernel_size=(3, 3), activation='relu'))\n",
        "model.add(keras.layers.MaxPooling2D(pool_size=(2, 2)))\n",
        "model.add(keras.layers.Flatten())\n",
        "#model.add(keras.layers.Dense(32, activation='selu'))\n",
        "model.add(keras.layers.Dense(16, activation='selu'))\n",
        "model.add(keras.layers.Dense(5, activation='softmax')) # suskaiciuoja kazka panasaus i tikimybe, labiau tiketinumas nei tikimybe\n",
        "model.compile(loss='sparse_categorical_crossentropy', \n",
        "              optimizer='Adam', \n",
        "              metrics=['accuracy'])\n",
        "# if you are using categorical_crossentropy, then it expects one hot encoded output\n",
        "model.summary()\n"
      ],
      "metadata": {
        "colab": {
          "base_uri": "https://localhost:8080/"
        },
        "id": "n5FPKc6nrtjh",
        "outputId": "eca48228-9f40-403e-b622-1faa10f37a21"
      },
      "execution_count": 6,
      "outputs": [
        {
          "output_type": "stream",
          "name": "stdout",
          "text": [
            "Model: \"sequential\"\n",
            "_________________________________________________________________\n",
            " Layer (type)                Output Shape              Param #   \n",
            "=================================================================\n",
            " conv2d (Conv2D)             (None, 48, 48, 16)        160       \n",
            "                                                                 \n",
            " conv2d_1 (Conv2D)           (None, 46, 46, 16)        2320      \n",
            "                                                                 \n",
            " max_pooling2d (MaxPooling2D  (None, 23, 23, 16)       0         \n",
            " )                                                               \n",
            "                                                                 \n",
            " flatten (Flatten)           (None, 8464)              0         \n",
            "                                                                 \n",
            " dense (Dense)               (None, 16)                135440    \n",
            "                                                                 \n",
            " dense_1 (Dense)             (None, 5)                 85        \n",
            "                                                                 \n",
            "=================================================================\n",
            "Total params: 138,005\n",
            "Trainable params: 138,005\n",
            "Non-trainable params: 0\n",
            "_________________________________________________________________\n"
          ]
        }
      ]
    },
    {
      "cell_type": "code",
      "source": [
        "model.fit(X, y, epochs = 10) # accuaracy kyla su kiekvienu paleidimu, nes kiekviena karta modelio neperkuria"
      ],
      "metadata": {
        "colab": {
          "base_uri": "https://localhost:8080/"
        },
        "id": "ctvky3Gbr08i",
        "outputId": "e6389dee-0f1f-4feb-c478-c1a23b83d79c"
      },
      "execution_count": 7,
      "outputs": [
        {
          "output_type": "stream",
          "name": "stdout",
          "text": [
            "Epoch 1/10\n",
            "313/313 [==============================] - 27s 84ms/step - loss: 1.2135 - accuracy: 0.4808\n",
            "Epoch 2/10\n",
            "313/313 [==============================] - 26s 83ms/step - loss: 0.8150 - accuracy: 0.6797\n",
            "Epoch 3/10\n",
            "313/313 [==============================] - 26s 84ms/step - loss: 0.5238 - accuracy: 0.8179\n",
            "Epoch 4/10\n",
            "313/313 [==============================] - 26s 83ms/step - loss: 0.3842 - accuracy: 0.8805\n",
            "Epoch 5/10\n",
            "313/313 [==============================] - 26s 84ms/step - loss: 0.2974 - accuracy: 0.9152\n",
            "Epoch 6/10\n",
            "313/313 [==============================] - 26s 84ms/step - loss: 0.2286 - accuracy: 0.9431\n",
            "Epoch 7/10\n",
            "313/313 [==============================] - 28s 89ms/step - loss: 0.1880 - accuracy: 0.9553\n",
            "Epoch 8/10\n",
            "313/313 [==============================] - 26s 84ms/step - loss: 0.1495 - accuracy: 0.9645\n",
            "Epoch 9/10\n",
            "313/313 [==============================] - 26s 84ms/step - loss: 0.1268 - accuracy: 0.9670\n",
            "Epoch 10/10\n",
            "313/313 [==============================] - 26s 84ms/step - loss: 0.1036 - accuracy: 0.9733\n"
          ]
        },
        {
          "output_type": "execute_result",
          "data": {
            "text/plain": [
              "<keras.callbacks.History at 0x7fd1ae79ad90>"
            ]
          },
          "metadata": {},
          "execution_count": 7
        }
      ]
    },
    {
      "cell_type": "code",
      "source": [
        "model.save('model.h5')"
      ],
      "metadata": {
        "id": "y7aioJ1Yr4Qj"
      },
      "execution_count": 8,
      "outputs": []
    },
    {
      "cell_type": "code",
      "source": [
        "model = keras.models.load_model('model.h5')\n",
        "evaluate('flatland_train.data', model)"
      ],
      "metadata": {
        "colab": {
          "base_uri": "https://localhost:8080/"
        },
        "id": "3tq7nyCasDJX",
        "outputId": "42534d05-ec1a-41df-fef5-ab6f6c61bbf1"
      },
      "execution_count": 9,
      "outputs": [
        {
          "output_type": "execute_result",
          "data": {
            "text/plain": [
              "0.9844"
            ]
          },
          "metadata": {},
          "execution_count": 9
        }
      ]
    }
  ]
}